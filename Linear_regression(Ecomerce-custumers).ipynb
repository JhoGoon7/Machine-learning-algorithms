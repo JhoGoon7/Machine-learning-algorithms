{
 "cells": [
  {
   "cell_type": "code",
   "execution_count": 229,
   "id": "5b8f213f-f971-4aa0-bd47-fadc18efcfbf",
   "metadata": {},
   "outputs": [],
   "source": [
    "import numpy as np\n",
    "import pandas as pd\n",
    "import matplotlib.pyplot as plt"
   ]
  },
  {
   "cell_type": "code",
   "execution_count": 231,
   "id": "f1f34d41-10f2-402a-90fb-b0b858e62536",
   "metadata": {},
   "outputs": [],
   "source": [
    "dataset = pd.read_csv(\"Ecommerce Customers\")"
   ]
  },
  {
   "cell_type": "code",
   "execution_count": 233,
   "id": "0f019e44-5aa6-48f7-ba09-ab8129baf905",
   "metadata": {},
   "outputs": [
    {
     "data": {
      "text/html": [
       "<div>\n",
       "<style scoped>\n",
       "    .dataframe tbody tr th:only-of-type {\n",
       "        vertical-align: middle;\n",
       "    }\n",
       "\n",
       "    .dataframe tbody tr th {\n",
       "        vertical-align: top;\n",
       "    }\n",
       "\n",
       "    .dataframe thead th {\n",
       "        text-align: right;\n",
       "    }\n",
       "</style>\n",
       "<table border=\"1\" class=\"dataframe\">\n",
       "  <thead>\n",
       "    <tr style=\"text-align: right;\">\n",
       "      <th></th>\n",
       "      <th>Email</th>\n",
       "      <th>Address</th>\n",
       "      <th>Avatar</th>\n",
       "      <th>Avg. Session Length</th>\n",
       "      <th>Time on App</th>\n",
       "      <th>Time on Website</th>\n",
       "      <th>Length of Membership</th>\n",
       "      <th>Yearly Amount Spent</th>\n",
       "    </tr>\n",
       "  </thead>\n",
       "  <tbody>\n",
       "    <tr>\n",
       "      <th>0</th>\n",
       "      <td>mstephenson@fernandez.com</td>\n",
       "      <td>835 Frank Tunnel\\nWrightmouth, MI 82180-9605</td>\n",
       "      <td>Violet</td>\n",
       "      <td>34.497268</td>\n",
       "      <td>12.655651</td>\n",
       "      <td>39.577668</td>\n",
       "      <td>4.082621</td>\n",
       "      <td>587.951054</td>\n",
       "    </tr>\n",
       "    <tr>\n",
       "      <th>1</th>\n",
       "      <td>hduke@hotmail.com</td>\n",
       "      <td>4547 Archer Common\\nDiazchester, CA 06566-8576</td>\n",
       "      <td>DarkGreen</td>\n",
       "      <td>31.926272</td>\n",
       "      <td>11.109461</td>\n",
       "      <td>37.268959</td>\n",
       "      <td>2.664034</td>\n",
       "      <td>392.204933</td>\n",
       "    </tr>\n",
       "    <tr>\n",
       "      <th>2</th>\n",
       "      <td>pallen@yahoo.com</td>\n",
       "      <td>24645 Valerie Unions Suite 582\\nCobbborough, D...</td>\n",
       "      <td>Bisque</td>\n",
       "      <td>33.000915</td>\n",
       "      <td>11.330278</td>\n",
       "      <td>37.110597</td>\n",
       "      <td>4.104543</td>\n",
       "      <td>487.547505</td>\n",
       "    </tr>\n",
       "    <tr>\n",
       "      <th>3</th>\n",
       "      <td>riverarebecca@gmail.com</td>\n",
       "      <td>1414 David Throughway\\nPort Jason, OH 22070-1220</td>\n",
       "      <td>SaddleBrown</td>\n",
       "      <td>34.305557</td>\n",
       "      <td>13.717514</td>\n",
       "      <td>36.721283</td>\n",
       "      <td>3.120179</td>\n",
       "      <td>581.852344</td>\n",
       "    </tr>\n",
       "    <tr>\n",
       "      <th>4</th>\n",
       "      <td>mstephens@davidson-herman.com</td>\n",
       "      <td>14023 Rodriguez Passage\\nPort Jacobville, PR 3...</td>\n",
       "      <td>MediumAquaMarine</td>\n",
       "      <td>33.330673</td>\n",
       "      <td>12.795189</td>\n",
       "      <td>37.536653</td>\n",
       "      <td>4.446308</td>\n",
       "      <td>599.406092</td>\n",
       "    </tr>\n",
       "  </tbody>\n",
       "</table>\n",
       "</div>"
      ],
      "text/plain": [
       "                           Email  \\\n",
       "0      mstephenson@fernandez.com   \n",
       "1              hduke@hotmail.com   \n",
       "2               pallen@yahoo.com   \n",
       "3        riverarebecca@gmail.com   \n",
       "4  mstephens@davidson-herman.com   \n",
       "\n",
       "                                             Address            Avatar  \\\n",
       "0       835 Frank Tunnel\\nWrightmouth, MI 82180-9605            Violet   \n",
       "1     4547 Archer Common\\nDiazchester, CA 06566-8576         DarkGreen   \n",
       "2  24645 Valerie Unions Suite 582\\nCobbborough, D...            Bisque   \n",
       "3   1414 David Throughway\\nPort Jason, OH 22070-1220       SaddleBrown   \n",
       "4  14023 Rodriguez Passage\\nPort Jacobville, PR 3...  MediumAquaMarine   \n",
       "\n",
       "   Avg. Session Length  Time on App  Time on Website  Length of Membership  \\\n",
       "0            34.497268    12.655651        39.577668              4.082621   \n",
       "1            31.926272    11.109461        37.268959              2.664034   \n",
       "2            33.000915    11.330278        37.110597              4.104543   \n",
       "3            34.305557    13.717514        36.721283              3.120179   \n",
       "4            33.330673    12.795189        37.536653              4.446308   \n",
       "\n",
       "   Yearly Amount Spent  \n",
       "0           587.951054  \n",
       "1           392.204933  \n",
       "2           487.547505  \n",
       "3           581.852344  \n",
       "4           599.406092  "
      ]
     },
     "execution_count": 233,
     "metadata": {},
     "output_type": "execute_result"
    }
   ],
   "source": [
    "dataset.head()"
   ]
  },
  {
   "cell_type": "code",
   "execution_count": 235,
   "id": "0ee05d91-2a2d-46f0-9210-eb848e28c355",
   "metadata": {},
   "outputs": [],
   "source": [
    "dataset = dataset.drop(columns = [\"Email\",\"Avatar\",\"Address\"])"
   ]
  },
  {
   "cell_type": "code",
   "execution_count": 237,
   "id": "ceec3bb0-0e3b-4cc2-9ad7-4deafab764c3",
   "metadata": {},
   "outputs": [
    {
     "data": {
      "text/html": [
       "<div>\n",
       "<style scoped>\n",
       "    .dataframe tbody tr th:only-of-type {\n",
       "        vertical-align: middle;\n",
       "    }\n",
       "\n",
       "    .dataframe tbody tr th {\n",
       "        vertical-align: top;\n",
       "    }\n",
       "\n",
       "    .dataframe thead th {\n",
       "        text-align: right;\n",
       "    }\n",
       "</style>\n",
       "<table border=\"1\" class=\"dataframe\">\n",
       "  <thead>\n",
       "    <tr style=\"text-align: right;\">\n",
       "      <th></th>\n",
       "      <th>Avg. Session Length</th>\n",
       "      <th>Time on App</th>\n",
       "      <th>Time on Website</th>\n",
       "      <th>Length of Membership</th>\n",
       "      <th>Yearly Amount Spent</th>\n",
       "    </tr>\n",
       "  </thead>\n",
       "  <tbody>\n",
       "    <tr>\n",
       "      <th>0</th>\n",
       "      <td>34.497268</td>\n",
       "      <td>12.655651</td>\n",
       "      <td>39.577668</td>\n",
       "      <td>4.082621</td>\n",
       "      <td>587.951054</td>\n",
       "    </tr>\n",
       "    <tr>\n",
       "      <th>1</th>\n",
       "      <td>31.926272</td>\n",
       "      <td>11.109461</td>\n",
       "      <td>37.268959</td>\n",
       "      <td>2.664034</td>\n",
       "      <td>392.204933</td>\n",
       "    </tr>\n",
       "    <tr>\n",
       "      <th>2</th>\n",
       "      <td>33.000915</td>\n",
       "      <td>11.330278</td>\n",
       "      <td>37.110597</td>\n",
       "      <td>4.104543</td>\n",
       "      <td>487.547505</td>\n",
       "    </tr>\n",
       "    <tr>\n",
       "      <th>3</th>\n",
       "      <td>34.305557</td>\n",
       "      <td>13.717514</td>\n",
       "      <td>36.721283</td>\n",
       "      <td>3.120179</td>\n",
       "      <td>581.852344</td>\n",
       "    </tr>\n",
       "    <tr>\n",
       "      <th>4</th>\n",
       "      <td>33.330673</td>\n",
       "      <td>12.795189</td>\n",
       "      <td>37.536653</td>\n",
       "      <td>4.446308</td>\n",
       "      <td>599.406092</td>\n",
       "    </tr>\n",
       "  </tbody>\n",
       "</table>\n",
       "</div>"
      ],
      "text/plain": [
       "   Avg. Session Length  Time on App  Time on Website  Length of Membership  \\\n",
       "0            34.497268    12.655651        39.577668              4.082621   \n",
       "1            31.926272    11.109461        37.268959              2.664034   \n",
       "2            33.000915    11.330278        37.110597              4.104543   \n",
       "3            34.305557    13.717514        36.721283              3.120179   \n",
       "4            33.330673    12.795189        37.536653              4.446308   \n",
       "\n",
       "   Yearly Amount Spent  \n",
       "0           587.951054  \n",
       "1           392.204933  \n",
       "2           487.547505  \n",
       "3           581.852344  \n",
       "4           599.406092  "
      ]
     },
     "execution_count": 237,
     "metadata": {},
     "output_type": "execute_result"
    }
   ],
   "source": [
    "dataset.head()"
   ]
  },
  {
   "cell_type": "code",
   "execution_count": 239,
   "id": "da389e60-6c66-4843-9448-7b289753f95e",
   "metadata": {},
   "outputs": [],
   "source": [
    "#let's normalize the data\n",
    "dataset = ( dataset - dataset.min() ) / ( dataset.max()  - dataset.min() )"
   ]
  },
  {
   "cell_type": "code",
   "execution_count": 241,
   "id": "c9808fd0-835c-45ef-bebc-358566c767c1",
   "metadata": {},
   "outputs": [
    {
     "data": {
      "text/html": [
       "<div>\n",
       "<style scoped>\n",
       "    .dataframe tbody tr th:only-of-type {\n",
       "        vertical-align: middle;\n",
       "    }\n",
       "\n",
       "    .dataframe tbody tr th {\n",
       "        vertical-align: top;\n",
       "    }\n",
       "\n",
       "    .dataframe thead th {\n",
       "        text-align: right;\n",
       "    }\n",
       "</style>\n",
       "<table border=\"1\" class=\"dataframe\">\n",
       "  <thead>\n",
       "    <tr style=\"text-align: right;\">\n",
       "      <th></th>\n",
       "      <th>Avg. Session Length</th>\n",
       "      <th>Time on App</th>\n",
       "      <th>Time on Website</th>\n",
       "      <th>Length of Membership</th>\n",
       "      <th>Yearly Amount Spent</th>\n",
       "    </tr>\n",
       "  </thead>\n",
       "  <tbody>\n",
       "    <tr>\n",
       "      <th>0</th>\n",
       "      <td>0.751425</td>\n",
       "      <td>0.626620</td>\n",
       "      <td>0.929816</td>\n",
       "      <td>0.573101</td>\n",
       "      <td>0.651040</td>\n",
       "    </tr>\n",
       "    <tr>\n",
       "      <th>1</th>\n",
       "      <td>0.362306</td>\n",
       "      <td>0.393016</td>\n",
       "      <td>0.550801</td>\n",
       "      <td>0.359869</td>\n",
       "      <td>0.266355</td>\n",
       "    </tr>\n",
       "    <tr>\n",
       "      <th>2</th>\n",
       "      <td>0.524953</td>\n",
       "      <td>0.426378</td>\n",
       "      <td>0.524803</td>\n",
       "      <td>0.576396</td>\n",
       "      <td>0.453725</td>\n",
       "    </tr>\n",
       "    <tr>\n",
       "      <th>3</th>\n",
       "      <td>0.722409</td>\n",
       "      <td>0.787050</td>\n",
       "      <td>0.460890</td>\n",
       "      <td>0.428434</td>\n",
       "      <td>0.639055</td>\n",
       "    </tr>\n",
       "    <tr>\n",
       "      <th>4</th>\n",
       "      <td>0.574861</td>\n",
       "      <td>0.647702</td>\n",
       "      <td>0.594748</td>\n",
       "      <td>0.627768</td>\n",
       "      <td>0.673552</td>\n",
       "    </tr>\n",
       "  </tbody>\n",
       "</table>\n",
       "</div>"
      ],
      "text/plain": [
       "   Avg. Session Length  Time on App  Time on Website  Length of Membership  \\\n",
       "0             0.751425     0.626620         0.929816              0.573101   \n",
       "1             0.362306     0.393016         0.550801              0.359869   \n",
       "2             0.524953     0.426378         0.524803              0.576396   \n",
       "3             0.722409     0.787050         0.460890              0.428434   \n",
       "4             0.574861     0.647702         0.594748              0.627768   \n",
       "\n",
       "   Yearly Amount Spent  \n",
       "0             0.651040  \n",
       "1             0.266355  \n",
       "2             0.453725  \n",
       "3             0.639055  \n",
       "4             0.673552  "
      ]
     },
     "execution_count": 241,
     "metadata": {},
     "output_type": "execute_result"
    }
   ],
   "source": [
    "dataset.head()"
   ]
  },
  {
   "cell_type": "code",
   "execution_count": 243,
   "id": "f6183270-4f2d-4f3f-852f-b6b5b8bc7031",
   "metadata": {},
   "outputs": [
    {
     "name": "stdout",
     "output_type": "stream",
     "text": [
      "<class 'pandas.core.frame.DataFrame'>\n",
      "RangeIndex: 500 entries, 0 to 499\n",
      "Data columns (total 5 columns):\n",
      " #   Column                Non-Null Count  Dtype  \n",
      "---  ------                --------------  -----  \n",
      " 0   Avg. Session Length   500 non-null    float64\n",
      " 1   Time on App           500 non-null    float64\n",
      " 2   Time on Website       500 non-null    float64\n",
      " 3   Length of Membership  500 non-null    float64\n",
      " 4   Yearly Amount Spent   500 non-null    float64\n",
      "dtypes: float64(5)\n",
      "memory usage: 19.7 KB\n"
     ]
    }
   ],
   "source": [
    "dataset.info()"
   ]
  },
  {
   "cell_type": "code",
   "execution_count": 245,
   "id": "64f1bff9-3c26-4a9e-b5fc-34b42c0017a3",
   "metadata": {},
   "outputs": [],
   "source": [
    "#okay so there no nAn values"
   ]
  },
  {
   "cell_type": "code",
   "execution_count": 247,
   "id": "b83e6924-c38a-4ddb-972d-c596b25102e3",
   "metadata": {},
   "outputs": [],
   "source": [
    "y = dataset[\"Yearly Amount Spent\"]\n",
    "X = dataset"
   ]
  },
  {
   "cell_type": "code",
   "execution_count": 249,
   "id": "1b5db825-f6a1-4328-9766-d510b26e37fe",
   "metadata": {},
   "outputs": [],
   "source": [
    "X = X.drop(columns = [\"Yearly Amount Spent\"])"
   ]
  },
  {
   "cell_type": "code",
   "execution_count": 251,
   "id": "53cdec24-1455-4457-926c-4b6b7e48b2e1",
   "metadata": {},
   "outputs": [
    {
     "data": {
      "text/html": [
       "<div>\n",
       "<style scoped>\n",
       "    .dataframe tbody tr th:only-of-type {\n",
       "        vertical-align: middle;\n",
       "    }\n",
       "\n",
       "    .dataframe tbody tr th {\n",
       "        vertical-align: top;\n",
       "    }\n",
       "\n",
       "    .dataframe thead th {\n",
       "        text-align: right;\n",
       "    }\n",
       "</style>\n",
       "<table border=\"1\" class=\"dataframe\">\n",
       "  <thead>\n",
       "    <tr style=\"text-align: right;\">\n",
       "      <th></th>\n",
       "      <th>Avg. Session Length</th>\n",
       "      <th>Time on App</th>\n",
       "      <th>Time on Website</th>\n",
       "      <th>Length of Membership</th>\n",
       "    </tr>\n",
       "  </thead>\n",
       "  <tbody>\n",
       "    <tr>\n",
       "      <th>0</th>\n",
       "      <td>0.751425</td>\n",
       "      <td>0.626620</td>\n",
       "      <td>0.929816</td>\n",
       "      <td>0.573101</td>\n",
       "    </tr>\n",
       "    <tr>\n",
       "      <th>1</th>\n",
       "      <td>0.362306</td>\n",
       "      <td>0.393016</td>\n",
       "      <td>0.550801</td>\n",
       "      <td>0.359869</td>\n",
       "    </tr>\n",
       "    <tr>\n",
       "      <th>2</th>\n",
       "      <td>0.524953</td>\n",
       "      <td>0.426378</td>\n",
       "      <td>0.524803</td>\n",
       "      <td>0.576396</td>\n",
       "    </tr>\n",
       "    <tr>\n",
       "      <th>3</th>\n",
       "      <td>0.722409</td>\n",
       "      <td>0.787050</td>\n",
       "      <td>0.460890</td>\n",
       "      <td>0.428434</td>\n",
       "    </tr>\n",
       "    <tr>\n",
       "      <th>4</th>\n",
       "      <td>0.574861</td>\n",
       "      <td>0.647702</td>\n",
       "      <td>0.594748</td>\n",
       "      <td>0.627768</td>\n",
       "    </tr>\n",
       "  </tbody>\n",
       "</table>\n",
       "</div>"
      ],
      "text/plain": [
       "   Avg. Session Length  Time on App  Time on Website  Length of Membership\n",
       "0             0.751425     0.626620         0.929816              0.573101\n",
       "1             0.362306     0.393016         0.550801              0.359869\n",
       "2             0.524953     0.426378         0.524803              0.576396\n",
       "3             0.722409     0.787050         0.460890              0.428434\n",
       "4             0.574861     0.647702         0.594748              0.627768"
      ]
     },
     "execution_count": 251,
     "metadata": {},
     "output_type": "execute_result"
    }
   ],
   "source": [
    "X.head()"
   ]
  },
  {
   "cell_type": "code",
   "execution_count": 253,
   "id": "91a5b4fe-cc40-4f9a-b6e9-a4ed842a73e5",
   "metadata": {},
   "outputs": [],
   "source": [
    "from sklearn.model_selection import train_test_split"
   ]
  },
  {
   "cell_type": "code",
   "execution_count": 255,
   "id": "139e3c40-2dcd-401d-b286-b953a110a5e1",
   "metadata": {},
   "outputs": [],
   "source": [
    "X_train,X_test,y_train,y_test = train_test_split(X , y , test_size = 0.3 , random_state=43)"
   ]
  },
  {
   "cell_type": "code",
   "execution_count": 257,
   "id": "1685d1a0-a54c-4161-9c7a-fa26bcd6e5d8",
   "metadata": {},
   "outputs": [],
   "source": [
    "#let's convert our pandas series/dataframe into numpy array for the calculus  "
   ]
  },
  {
   "cell_type": "code",
   "execution_count": 259,
   "id": "f61bcf68-b8a9-4689-af88-846e71a0235b",
   "metadata": {},
   "outputs": [],
   "source": [
    "X = X.to_numpy()"
   ]
  },
  {
   "cell_type": "code",
   "execution_count": 261,
   "id": "93d5a104-5d01-4b1f-90b9-6701a61084e3",
   "metadata": {},
   "outputs": [
    {
     "data": {
      "text/plain": [
       "(500, 4)"
      ]
     },
     "execution_count": 261,
     "metadata": {},
     "output_type": "execute_result"
    }
   ],
   "source": [
    "X.shape"
   ]
  },
  {
   "cell_type": "code",
   "execution_count": 263,
   "id": "a2082fb7-8288-4bb8-9ed8-49d00a99daad",
   "metadata": {},
   "outputs": [],
   "source": [
    "y = y.to_numpy()"
   ]
  },
  {
   "cell_type": "code",
   "execution_count": 265,
   "id": "90c089a7-c68a-45c4-a60e-32a09269f5e6",
   "metadata": {},
   "outputs": [
    {
     "data": {
      "text/plain": [
       "(500,)"
      ]
     },
     "execution_count": 265,
     "metadata": {},
     "output_type": "execute_result"
    }
   ],
   "source": [
    "y.shape # a scalar"
   ]
  },
  {
   "cell_type": "code",
   "execution_count": 267,
   "id": "062be234-a5f2-48c4-9025-b553a75f8441",
   "metadata": {},
   "outputs": [
    {
     "data": {
      "text/plain": [
       "500"
      ]
     },
     "execution_count": 267,
     "metadata": {},
     "output_type": "execute_result"
    }
   ],
   "source": [
    "y.size"
   ]
  },
  {
   "cell_type": "code",
   "execution_count": 269,
   "id": "21239a7e-611a-43c9-b4bb-52b3373999b3",
   "metadata": {},
   "outputs": [],
   "source": [
    "def model(X , y , learning_rate , iteration):\n",
    "    m = y.size\n",
    "    theta = np.zeros((X.shape[1],1))\n",
    "    cost_list = []\n",
    "    \n",
    "    for i in range(iteration):\n",
    "        \n",
    "        y_pred = np.dot(X,theta)\n",
    "        cost = (1/(2*m))*np.sum(np.square(y_pred - y))\n",
    "\n",
    "        d_theta = (1/m)*np.dot(X.T , y_pred - y)\n",
    "        theta  = theta - learning_rate*d_theta\n",
    "        cost_list.append(cost)\n",
    "        \n",
    "    return theta,cost_list"
   ]
  },
  {
   "cell_type": "code",
   "execution_count": 271,
   "id": "4d16a04e-2284-4c23-ae8d-56cfd4702e51",
   "metadata": {},
   "outputs": [],
   "source": [
    "y_train = y_train.to_numpy()\n",
    "y_test = y_test.to_numpy()"
   ]
  },
  {
   "cell_type": "code",
   "execution_count": 273,
   "id": "dd0932bb-17e5-4b96-bc60-b6b9227d47f2",
   "metadata": {},
   "outputs": [],
   "source": [
    "y_train = y_train.reshape(-1, 1)\n",
    "y_test = y_test.reshape(-1, 1)"
   ]
  },
  {
   "cell_type": "code",
   "execution_count": 275,
   "id": "7d5be7a2-39f5-4621-b9d4-11f9c51abedd",
   "metadata": {},
   "outputs": [],
   "source": [
    "learning_rate_bis = 0.05\n",
    "iteration_bis = 1000"
   ]
  },
  {
   "cell_type": "code",
   "execution_count": 277,
   "id": "6c88b2ba-df95-46fb-be74-e41903e7ee86",
   "metadata": {},
   "outputs": [],
   "source": [
    "theta,cost_list = model(X_train , y_train , learning_rate_bis , iteration_bis )"
   ]
  },
  {
   "cell_type": "code",
   "execution_count": 282,
   "id": "7bb0136a-7dcd-4300-900d-bf27613c4a92",
   "metadata": {},
   "outputs": [],
   "source": [
    "predictions = np.dot(X_test,theta)"
   ]
  },
  {
   "cell_type": "code",
   "execution_count": 284,
   "id": "a847d945-f3a6-4560-8f71-557dd8461bcf",
   "metadata": {},
   "outputs": [
    {
     "data": {
      "text/plain": [
       "array([[0.3676603 ],\n",
       "       [0.4424892 ],\n",
       "       [0.52130945],\n",
       "       [0.62705089],\n",
       "       [0.60638467],\n",
       "       [0.38780204],\n",
       "       [0.67914832],\n",
       "       [0.44926352],\n",
       "       [0.39063054],\n",
       "       [0.46676333],\n",
       "       [0.61823393],\n",
       "       [0.52202326],\n",
       "       [0.4341207 ],\n",
       "       [0.4351965 ],\n",
       "       [0.40195671],\n",
       "       [0.5673891 ],\n",
       "       [0.46138849],\n",
       "       [0.373541  ],\n",
       "       [0.48250779],\n",
       "       [0.49473859],\n",
       "       [0.44482916],\n",
       "       [0.49100661],\n",
       "       [0.39859936],\n",
       "       [0.37640152],\n",
       "       [0.57991308],\n",
       "       [0.42413329],\n",
       "       [0.45702527],\n",
       "       [0.44121964],\n",
       "       [0.45535473],\n",
       "       [0.52662102],\n",
       "       [0.36089841],\n",
       "       [0.41099612],\n",
       "       [0.62983804],\n",
       "       [0.55957016],\n",
       "       [0.47731223],\n",
       "       [0.54002412],\n",
       "       [0.33711828],\n",
       "       [0.46445841],\n",
       "       [0.43387121],\n",
       "       [0.49963189],\n",
       "       [0.47315642],\n",
       "       [0.47383337],\n",
       "       [0.48820912],\n",
       "       [0.50764877],\n",
       "       [0.62541638],\n",
       "       [0.38230661],\n",
       "       [0.45094351],\n",
       "       [0.36013295],\n",
       "       [0.38091079],\n",
       "       [0.40015915],\n",
       "       [0.27449428],\n",
       "       [0.53564684],\n",
       "       [0.46719721],\n",
       "       [0.52948325],\n",
       "       [0.67830419],\n",
       "       [0.40689763],\n",
       "       [0.45790637],\n",
       "       [0.54620008],\n",
       "       [0.47705552],\n",
       "       [0.55413905],\n",
       "       [0.46106587],\n",
       "       [0.4570876 ],\n",
       "       [0.41361678],\n",
       "       [0.51320118],\n",
       "       [0.58429595],\n",
       "       [0.49961057],\n",
       "       [0.60879894],\n",
       "       [0.52483098],\n",
       "       [0.44618369],\n",
       "       [0.55964346],\n",
       "       [0.53760281],\n",
       "       [0.50404828],\n",
       "       [0.43218568],\n",
       "       [0.36364992],\n",
       "       [0.53666505],\n",
       "       [0.35327819],\n",
       "       [0.4855377 ],\n",
       "       [0.29452113],\n",
       "       [0.62342243],\n",
       "       [0.40409463],\n",
       "       [0.40127372],\n",
       "       [0.50871197],\n",
       "       [0.50593231],\n",
       "       [0.41074053],\n",
       "       [0.49102968],\n",
       "       [0.32739534],\n",
       "       [0.59329541],\n",
       "       [0.50662068],\n",
       "       [0.55766043],\n",
       "       [0.43644676],\n",
       "       [0.38250762],\n",
       "       [0.49167581],\n",
       "       [0.4887948 ],\n",
       "       [0.24466178],\n",
       "       [0.41016025],\n",
       "       [0.53071175],\n",
       "       [0.58872712],\n",
       "       [0.53748372],\n",
       "       [0.28730002],\n",
       "       [0.50520884],\n",
       "       [0.37744499],\n",
       "       [0.46735224],\n",
       "       [0.58828582],\n",
       "       [0.50807108],\n",
       "       [0.56487312],\n",
       "       [0.40434727],\n",
       "       [0.53319476],\n",
       "       [0.4179075 ],\n",
       "       [0.51808711],\n",
       "       [0.45347513],\n",
       "       [0.40796845],\n",
       "       [0.415783  ],\n",
       "       [0.43917436],\n",
       "       [0.52659181],\n",
       "       [0.46234094],\n",
       "       [0.48278999],\n",
       "       [0.52860462],\n",
       "       [0.4944386 ],\n",
       "       [0.57527204],\n",
       "       [0.60867184],\n",
       "       [0.46712926],\n",
       "       [0.47679321],\n",
       "       [0.40759725],\n",
       "       [0.49917802],\n",
       "       [0.82190715],\n",
       "       [0.4097252 ],\n",
       "       [0.48436741],\n",
       "       [0.42718168],\n",
       "       [0.56847322],\n",
       "       [0.47295749],\n",
       "       [0.7566577 ],\n",
       "       [0.43759969],\n",
       "       [0.6748526 ],\n",
       "       [0.50396499],\n",
       "       [0.50520244],\n",
       "       [0.38787743],\n",
       "       [0.71853474],\n",
       "       [0.4841379 ],\n",
       "       [0.61162825],\n",
       "       [0.50659647],\n",
       "       [0.47207461],\n",
       "       [0.57564758],\n",
       "       [0.58967659],\n",
       "       [0.36268259],\n",
       "       [0.59042731],\n",
       "       [0.58653527],\n",
       "       [0.48527756],\n",
       "       [0.30684206],\n",
       "       [0.36545447],\n",
       "       [0.51725721]])"
      ]
     },
     "execution_count": 284,
     "metadata": {},
     "output_type": "execute_result"
    }
   ],
   "source": [
    "predictions"
   ]
  },
  {
   "cell_type": "code",
   "execution_count": 286,
   "id": "c5ebd76e-ec28-47e5-ad32-ff8f4d1cc34b",
   "metadata": {},
   "outputs": [
    {
     "data": {
      "text/plain": [
       "array([[0.29681555],\n",
       "       [0.41618559],\n",
       "       [0.53279659],\n",
       "       [0.66770366],\n",
       "       [0.70783618],\n",
       "       [0.26960275],\n",
       "       [0.79346818],\n",
       "       [0.43130506],\n",
       "       [0.30528249],\n",
       "       [0.41788575],\n",
       "       [0.73784921],\n",
       "       [0.55253193],\n",
       "       [0.38410702],\n",
       "       [0.47389673],\n",
       "       [0.38303216],\n",
       "       [0.56547094],\n",
       "       [0.42584419],\n",
       "       [0.28593327],\n",
       "       [0.46268144],\n",
       "       [0.45374047],\n",
       "       [0.40729841],\n",
       "       [0.44611118],\n",
       "       [0.29649644],\n",
       "       [0.2599401 ],\n",
       "       [0.62332353],\n",
       "       [0.36028875],\n",
       "       [0.46585359],\n",
       "       [0.40308738],\n",
       "       [0.4251205 ],\n",
       "       [0.58432495],\n",
       "       [0.2816427 ],\n",
       "       [0.33033852],\n",
       "       [0.70144488],\n",
       "       [0.59140991],\n",
       "       [0.49271991],\n",
       "       [0.55439821],\n",
       "       [0.25087159],\n",
       "       [0.44445582],\n",
       "       [0.35694975],\n",
       "       [0.49883454],\n",
       "       [0.4508476 ],\n",
       "       [0.48443653],\n",
       "       [0.49536447],\n",
       "       [0.49543554],\n",
       "       [0.66651011],\n",
       "       [0.38313617],\n",
       "       [0.43683158],\n",
       "       [0.29927953],\n",
       "       [0.32484406],\n",
       "       [0.36563444],\n",
       "       [0.18352758],\n",
       "       [0.51974741],\n",
       "       [0.4352966 ],\n",
       "       [0.54640134],\n",
       "       [0.7986753 ],\n",
       "       [0.36921637],\n",
       "       [0.43741331],\n",
       "       [0.55921625],\n",
       "       [0.46356929],\n",
       "       [0.57475132],\n",
       "       [0.45233234],\n",
       "       [0.43611011],\n",
       "       [0.40664577],\n",
       "       [0.50572921],\n",
       "       [0.62444027],\n",
       "       [0.48364256],\n",
       "       [0.69462302],\n",
       "       [0.58223641],\n",
       "       [0.40694952],\n",
       "       [0.62816533],\n",
       "       [0.57078041],\n",
       "       [0.57805642],\n",
       "       [0.39639809],\n",
       "       [0.32242856],\n",
       "       [0.5524295 ],\n",
       "       [0.2994999 ],\n",
       "       [0.48057308],\n",
       "       [0.1243167 ],\n",
       "       [0.72585168],\n",
       "       [0.34877539],\n",
       "       [0.31823295],\n",
       "       [0.51511643],\n",
       "       [0.53404713],\n",
       "       [0.41418521],\n",
       "       [0.46766045],\n",
       "       [0.19641427],\n",
       "       [0.6611144 ],\n",
       "       [0.53366288],\n",
       "       [0.57354655],\n",
       "       [0.3665666 ],\n",
       "       [0.33429369],\n",
       "       [0.5212029 ],\n",
       "       [0.45053258],\n",
       "       [0.11352693],\n",
       "       [0.33027197],\n",
       "       [0.55732338],\n",
       "       [0.71175572],\n",
       "       [0.57127989],\n",
       "       [0.13895581],\n",
       "       [0.51193011],\n",
       "       [0.29865462],\n",
       "       [0.41433074],\n",
       "       [0.67027752],\n",
       "       [0.50286532],\n",
       "       [0.63905496],\n",
       "       [0.30365928],\n",
       "       [0.54292186],\n",
       "       [0.3692765 ],\n",
       "       [0.51127456],\n",
       "       [0.37783927],\n",
       "       [0.36027918],\n",
       "       [0.38448641],\n",
       "       [0.40278776],\n",
       "       [0.55472648],\n",
       "       [0.44847663],\n",
       "       [0.4981631 ],\n",
       "       [0.53557055],\n",
       "       [0.50463016],\n",
       "       [0.58573793],\n",
       "       [0.6832381 ],\n",
       "       [0.4383655 ],\n",
       "       [0.49863784],\n",
       "       [0.29782244],\n",
       "       [0.45100555],\n",
       "       [0.95814742],\n",
       "       [0.36704737],\n",
       "       [0.47142478],\n",
       "       [0.3764568 ],\n",
       "       [0.62913098],\n",
       "       [0.45391886],\n",
       "       [0.92152144],\n",
       "       [0.37440868],\n",
       "       [0.75369707],\n",
       "       [0.48188046],\n",
       "       [0.47331061],\n",
       "       [0.31734337],\n",
       "       [0.81225957],\n",
       "       [0.49072679],\n",
       "       [0.65315376],\n",
       "       [0.50588474],\n",
       "       [0.47345405],\n",
       "       [0.65104029],\n",
       "       [0.65856717],\n",
       "       [0.32923837],\n",
       "       [0.63096547],\n",
       "       [0.62491026],\n",
       "       [0.48035901],\n",
       "       [0.17904436],\n",
       "       [0.27660526],\n",
       "       [0.45254482]])"
      ]
     },
     "execution_count": 286,
     "metadata": {},
     "output_type": "execute_result"
    }
   ],
   "source": [
    "y_test"
   ]
  },
  {
   "cell_type": "code",
   "execution_count": 298,
   "id": "ac5438e0-ad1e-4730-b12c-627fc4cb22d4",
   "metadata": {},
   "outputs": [
    {
     "name": "stdout",
     "output_type": "stream",
     "text": [
      "mean absolute error 0.04839062259902078\n",
      "values of theta:\n",
      " [[ 0.18030909]\n",
      " [ 0.29756164]\n",
      " [-0.04594479]\n",
      " [ 0.51722296]]\n"
     ]
    }
   ],
   "source": [
    "from sklearn.metrics import mean_absolute_error\n",
    "print(\"mean absolute error\",mean_absolute_error(y_test,predictions))\n",
    "print(\"values of theta:\\n\",theta)"
   ]
  },
  {
   "cell_type": "code",
   "execution_count": null,
   "id": "59c6ebcf-887f-4b16-ac9a-2bb62f47b08a",
   "metadata": {},
   "outputs": [],
   "source": []
  },
  {
   "cell_type": "code",
   "execution_count": null,
   "id": "6de5dbd6-54c8-421d-900d-fdfc8761a79c",
   "metadata": {},
   "outputs": [],
   "source": []
  },
  {
   "cell_type": "code",
   "execution_count": null,
   "id": "a9d8e424-fa71-4441-968a-99079b32e23c",
   "metadata": {},
   "outputs": [],
   "source": []
  },
  {
   "cell_type": "code",
   "execution_count": null,
   "id": "59cbde45-5446-44de-b21c-8939a0699a8e",
   "metadata": {},
   "outputs": [],
   "source": []
  },
  {
   "cell_type": "code",
   "execution_count": null,
   "id": "a7d7e94b-d6f0-4cf0-83b4-0e31abd4e21f",
   "metadata": {},
   "outputs": [],
   "source": []
  },
  {
   "cell_type": "code",
   "execution_count": null,
   "id": "304d5d98-4e7d-495f-b79d-1911a0f449c4",
   "metadata": {},
   "outputs": [],
   "source": []
  },
  {
   "cell_type": "code",
   "execution_count": null,
   "id": "7fd23a8d-8145-47b4-9f66-882a651082ee",
   "metadata": {},
   "outputs": [],
   "source": []
  },
  {
   "cell_type": "code",
   "execution_count": null,
   "id": "8e460981-0d6d-4ef1-ab43-b2056d0e8fa2",
   "metadata": {},
   "outputs": [],
   "source": []
  },
  {
   "cell_type": "code",
   "execution_count": null,
   "id": "a5400227-3979-4a35-803e-0e33d179912d",
   "metadata": {},
   "outputs": [],
   "source": []
  }
 ],
 "metadata": {
  "kernelspec": {
   "display_name": "Python 3 (ipykernel)",
   "language": "python",
   "name": "python3"
  },
  "language_info": {
   "codemirror_mode": {
    "name": "ipython",
    "version": 3
   },
   "file_extension": ".py",
   "mimetype": "text/x-python",
   "name": "python",
   "nbconvert_exporter": "python",
   "pygments_lexer": "ipython3",
   "version": "3.12.4"
  }
 },
 "nbformat": 4,
 "nbformat_minor": 5
}
