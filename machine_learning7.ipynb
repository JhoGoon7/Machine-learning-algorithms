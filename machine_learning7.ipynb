{
 "cells": [
  {
   "cell_type": "code",
   "execution_count": 9,
   "id": "4c6a6213-d105-4f97-8bb5-9186c14df9de",
   "metadata": {},
   "outputs": [],
   "source": [
    "from sklearn.datasets import load_iris\n",
    "import numpy as np\n",
    "import pandas as pd\n",
    "import matplotlib.pyplot as plt"
   ]
  },
  {
   "cell_type": "code",
   "execution_count": 10,
   "id": "7ca61157-06fb-4841-aad9-b699c1559988",
   "metadata": {},
   "outputs": [],
   "source": [
    "data = load_iris()"
   ]
  },
  {
   "cell_type": "code",
   "execution_count": 11,
   "id": "03fc40c8-c26f-4a21-a467-ee26fb335767",
   "metadata": {},
   "outputs": [],
   "source": [
    "dataset = pd.DataFrame(data.data , columns = data.feature_names)"
   ]
  },
  {
   "cell_type": "code",
   "execution_count": 15,
   "id": "21864401-3f32-40d3-a5f8-63210796e151",
   "metadata": {},
   "outputs": [
    {
     "data": {
      "text/html": [
       "<div>\n",
       "<style scoped>\n",
       "    .dataframe tbody tr th:only-of-type {\n",
       "        vertical-align: middle;\n",
       "    }\n",
       "\n",
       "    .dataframe tbody tr th {\n",
       "        vertical-align: top;\n",
       "    }\n",
       "\n",
       "    .dataframe thead th {\n",
       "        text-align: right;\n",
       "    }\n",
       "</style>\n",
       "<table border=\"1\" class=\"dataframe\">\n",
       "  <thead>\n",
       "    <tr style=\"text-align: right;\">\n",
       "      <th></th>\n",
       "      <th>0</th>\n",
       "      <th>1</th>\n",
       "      <th>2</th>\n",
       "      <th>3</th>\n",
       "      <th>4</th>\n",
       "    </tr>\n",
       "  </thead>\n",
       "  <tbody>\n",
       "    <tr>\n",
       "      <th>sepal length (cm)</th>\n",
       "      <td>5.1</td>\n",
       "      <td>4.9</td>\n",
       "      <td>4.7</td>\n",
       "      <td>4.6</td>\n",
       "      <td>5.0</td>\n",
       "    </tr>\n",
       "    <tr>\n",
       "      <th>sepal width (cm)</th>\n",
       "      <td>3.5</td>\n",
       "      <td>3.0</td>\n",
       "      <td>3.2</td>\n",
       "      <td>3.1</td>\n",
       "      <td>3.6</td>\n",
       "    </tr>\n",
       "    <tr>\n",
       "      <th>petal length (cm)</th>\n",
       "      <td>1.4</td>\n",
       "      <td>1.4</td>\n",
       "      <td>1.3</td>\n",
       "      <td>1.5</td>\n",
       "      <td>1.4</td>\n",
       "    </tr>\n",
       "    <tr>\n",
       "      <th>petal width (cm)</th>\n",
       "      <td>0.2</td>\n",
       "      <td>0.2</td>\n",
       "      <td>0.2</td>\n",
       "      <td>0.2</td>\n",
       "      <td>0.2</td>\n",
       "    </tr>\n",
       "  </tbody>\n",
       "</table>\n",
       "</div>"
      ],
      "text/plain": [
       "                     0    1    2    3    4\n",
       "sepal length (cm)  5.1  4.9  4.7  4.6  5.0\n",
       "sepal width (cm)   3.5  3.0  3.2  3.1  3.6\n",
       "petal length (cm)  1.4  1.4  1.3  1.5  1.4\n",
       "petal width (cm)   0.2  0.2  0.2  0.2  0.2"
      ]
     },
     "execution_count": 15,
     "metadata": {},
     "output_type": "execute_result"
    }
   ],
   "source": [
    "dataset.head().T"
   ]
  },
  {
   "cell_type": "code",
   "execution_count": 17,
   "id": "08905536-b0d1-44ba-b04d-ff8c4aa033b6",
   "metadata": {},
   "outputs": [],
   "source": [
    "def random_centroid(dataset , k):\n",
    "    centroids = []\n",
    "    for i in range(k):\n",
    "        centroid = dataset.apply(lambda x:float(x.sample().to_numpy()[0]))\n",
    "        centroids.append(centroid)\n",
    "    return pd.concat(centroids , axis = 1)"
   ]
  },
  {
   "cell_type": "code",
   "execution_count": 19,
   "id": "dec22c04-9216-4ebc-88e8-b4203393ea91",
   "metadata": {},
   "outputs": [],
   "source": [
    "r_centroid = random_centroid(dataset,3)"
   ]
  },
  {
   "cell_type": "code",
   "execution_count": 21,
   "id": "02397628-96d5-42d2-859e-e74120172f22",
   "metadata": {},
   "outputs": [
    {
     "data": {
      "text/html": [
       "<div>\n",
       "<style scoped>\n",
       "    .dataframe tbody tr th:only-of-type {\n",
       "        vertical-align: middle;\n",
       "    }\n",
       "\n",
       "    .dataframe tbody tr th {\n",
       "        vertical-align: top;\n",
       "    }\n",
       "\n",
       "    .dataframe thead th {\n",
       "        text-align: right;\n",
       "    }\n",
       "</style>\n",
       "<table border=\"1\" class=\"dataframe\">\n",
       "  <thead>\n",
       "    <tr style=\"text-align: right;\">\n",
       "      <th></th>\n",
       "      <th>0</th>\n",
       "      <th>1</th>\n",
       "      <th>2</th>\n",
       "    </tr>\n",
       "  </thead>\n",
       "  <tbody>\n",
       "    <tr>\n",
       "      <th>sepal length (cm)</th>\n",
       "      <td>5.1</td>\n",
       "      <td>6.0</td>\n",
       "      <td>4.8</td>\n",
       "    </tr>\n",
       "    <tr>\n",
       "      <th>sepal width (cm)</th>\n",
       "      <td>2.9</td>\n",
       "      <td>2.0</td>\n",
       "      <td>3.6</td>\n",
       "    </tr>\n",
       "    <tr>\n",
       "      <th>petal length (cm)</th>\n",
       "      <td>5.6</td>\n",
       "      <td>1.4</td>\n",
       "      <td>1.6</td>\n",
       "    </tr>\n",
       "    <tr>\n",
       "      <th>petal width (cm)</th>\n",
       "      <td>1.7</td>\n",
       "      <td>2.0</td>\n",
       "      <td>1.4</td>\n",
       "    </tr>\n",
       "  </tbody>\n",
       "</table>\n",
       "</div>"
      ],
      "text/plain": [
       "                     0    1    2\n",
       "sepal length (cm)  5.1  6.0  4.8\n",
       "sepal width (cm)   2.9  2.0  3.6\n",
       "petal length (cm)  5.6  1.4  1.6\n",
       "petal width (cm)   1.7  2.0  1.4"
      ]
     },
     "execution_count": 21,
     "metadata": {},
     "output_type": "execute_result"
    }
   ],
   "source": [
    "r_centroid"
   ]
  },
  {
   "cell_type": "code",
   "execution_count": 23,
   "id": "48b4f4a0-4af8-451c-b1d0-f625d70338bf",
   "metadata": {},
   "outputs": [],
   "source": [
    "def get_labels(dataset , r_centroid):\n",
    "    distance = r_centroid.apply(lambda x:np.sqrt(((dataset - x) ** 2).sum(axis=1)))\n",
    "    return distance.idxmin(axis=1)"
   ]
  },
  {
   "cell_type": "code",
   "execution_count": 25,
   "id": "a03c9b54-ec8b-4186-8e01-b21763328c06",
   "metadata": {},
   "outputs": [],
   "source": [
    "labels = get_labels(dataset , r_centroid) "
   ]
  },
  {
   "cell_type": "code",
   "execution_count": 27,
   "id": "98eb5bb8-3015-422a-a74c-52ee34e2b635",
   "metadata": {},
   "outputs": [
    {
     "data": {
      "text/plain": [
       "0      2\n",
       "1      2\n",
       "2      2\n",
       "3      2\n",
       "4      2\n",
       "      ..\n",
       "145    0\n",
       "146    0\n",
       "147    0\n",
       "148    0\n",
       "149    0\n",
       "Length: 150, dtype: int64"
      ]
     },
     "execution_count": 27,
     "metadata": {},
     "output_type": "execute_result"
    }
   ],
   "source": [
    "labels"
   ]
  },
  {
   "cell_type": "code",
   "execution_count": 29,
   "id": "71059a0b-c0e1-430a-9c99-4f15aaec14be",
   "metadata": {},
   "outputs": [
    {
     "data": {
      "text/plain": [
       "0    97\n",
       "2    53\n",
       "Name: count, dtype: int64"
      ]
     },
     "execution_count": 29,
     "metadata": {},
     "output_type": "execute_result"
    }
   ],
   "source": [
    "labels.value_counts()"
   ]
  },
  {
   "cell_type": "code",
   "execution_count": 31,
   "id": "971c21ba-2943-4d14-8f71-e5257f9e8140",
   "metadata": {},
   "outputs": [],
   "source": [
    "def new_centroids(dataset , labels , k):\n",
    "    return dataset.groupby(labels).apply(lambda x:np.exp(np.log(x).mean())).T"
   ]
  },
  {
   "cell_type": "code",
   "execution_count": 33,
   "id": "3a107d67-e379-48c5-a5dd-d788db73f987",
   "metadata": {},
   "outputs": [],
   "source": [
    "from sklearn.decomposition import PCA #help to visulize the data , because we re in 5 dimension but it will arange the dimension\n",
    "import matplotlib.pyplot as plt\n",
    "from IPython.display import clear_output"
   ]
  },
  {
   "cell_type": "code",
   "execution_count": 35,
   "id": "523d86b3-1f9d-4d2c-83ac-05bbeb248418",
   "metadata": {},
   "outputs": [],
   "source": [
    "def plot_clusters(dataset0 , labels , centroid , iteration):\n",
    "    pca = PCA(n_components = 2) #to tell to return our data of 5 columns into 2 columns \n",
    "    data_2d = pca.fit_transform(dataset0) #transform the data and then execute\n",
    "    centroid_2d = pca.transform(centroid.T)\n",
    "    clear_output(wait=True)\n",
    "    plt.title(f'Iteration number {iteration}')\n",
    "    plt.scatter(x=data_2d[:,0] , y=data_2d[:,1] , c=labels)\n",
    "    plt.scatter(x=centroid_2d[:,0] , y=centroid_2d[:,1])\n",
    "    plt.show()"
   ]
  },
  {
   "cell_type": "code",
   "execution_count": 3,
   "id": "838003a3-f36d-47d8-bdad-125d082c88c2",
   "metadata": {},
   "outputs": [],
   "source": [
    "def Kmeans(dataset , labels , k , r_centroid , max_iteration):\n",
    "    \n",
    "    \n",
    "    iteration = 0\n",
    "    old_centroid = pd.DataFrame()\n",
    "    r_centroid = random_centroid(dataset , k)\n",
    "    \n",
    "    while iteration < max_iteration and not r_centroid.equals(old_centroid):\n",
    "        \n",
    "       \n",
    "        old_centroid = r_centroid\n",
    "        labels = get_labels(dataset , r_centroid)\n",
    "        r_centroid = new_centroids(dataset,labels ,k)\n",
    "        plot_clusters(dataset , labels , r_centroid , iteration) \n",
    "        iteration += 1\n",
    "\n",
    "    return r_centroid , labels\n",
    "    \n",
    "    "
   ]
  },
  {
   "cell_type": "code",
   "execution_count": 37,
   "id": "a7ef2560-2ba6-4c99-aabe-decdaee6148b",
   "metadata": {},
   "outputs": [
    {
     "data": {
      "image/png": "[encoded data removed]",
      "text/plain": [
       "<Figure size 640x480 with 1 Axes>"
      ]
     },
     "metadata": {},
     "output_type": "display_data"
    }
   ],
   "source": [
    "centroid0 , labels0 = Kmeans(dataset , labels , 5 , r_centroid ,100)"
   ]
  },
  {
   "cell_type": "code",
   "execution_count": 41,
   "id": "1a9ec6dc-ed4c-4ea6-9c53-1c466ce8d440",
   "metadata": {},
   "outputs": [
    {
     "data": {
      "text/html": [
       "<div>\n",
       "<style scoped>\n",
       "    .dataframe tbody tr th:only-of-type {\n",
       "        vertical-align: middle;\n",
       "    }\n",
       "\n",
       "    .dataframe tbody tr th {\n",
       "        vertical-align: top;\n",
       "    }\n",
       "\n",
       "    .dataframe thead th {\n",
       "        text-align: right;\n",
       "    }\n",
       "</style>\n",
       "<table border=\"1\" class=\"dataframe\">\n",
       "  <thead>\n",
       "    <tr style=\"text-align: right;\">\n",
       "      <th></th>\n",
       "      <th>0</th>\n",
       "      <th>2</th>\n",
       "      <th>3</th>\n",
       "      <th>4</th>\n",
       "    </tr>\n",
       "  </thead>\n",
       "  <tbody>\n",
       "    <tr>\n",
       "      <th>sepal length (cm)</th>\n",
       "      <td>6.895008</td>\n",
       "      <td>4.993841</td>\n",
       "      <td>6.206576</td>\n",
       "      <td>5.498512</td>\n",
       "    </tr>\n",
       "    <tr>\n",
       "      <th>sepal width (cm)</th>\n",
       "      <td>3.086679</td>\n",
       "      <td>3.407080</td>\n",
       "      <td>2.847236</td>\n",
       "      <td>2.587058</td>\n",
       "    </tr>\n",
       "    <tr>\n",
       "      <th>petal length (cm)</th>\n",
       "      <td>5.830520</td>\n",
       "      <td>1.451734</td>\n",
       "      <td>4.776537</td>\n",
       "      <td>3.889751</td>\n",
       "    </tr>\n",
       "    <tr>\n",
       "      <th>petal width (cm)</th>\n",
       "      <td>2.117328</td>\n",
       "      <td>0.226582</td>\n",
       "      <td>1.591918</td>\n",
       "      <td>1.191804</td>\n",
       "    </tr>\n",
       "  </tbody>\n",
       "</table>\n",
       "</div>"
      ],
      "text/plain": [
       "                          0         2         3         4\n",
       "sepal length (cm)  6.895008  4.993841  6.206576  5.498512\n",
       "sepal width (cm)   3.086679  3.407080  2.847236  2.587058\n",
       "petal length (cm)  5.830520  1.451734  4.776537  3.889751\n",
       "petal width (cm)   2.117328  0.226582  1.591918  1.191804"
      ]
     },
     "execution_count": 41,
     "metadata": {},
     "output_type": "execute_result"
    }
   ],
   "source": [
    "centroid0.head()"
   ]
  },
  {
   "cell_type": "code",
   "execution_count": 239,
   "id": "58eb0998-e895-4c3a-a7c5-187ec3811ccf",
   "metadata": {},
   "outputs": [
    {
     "data": {
      "text/plain": [
       "0      1\n",
       "1      1\n",
       "2      1\n",
       "3      1\n",
       "4      1\n",
       "      ..\n",
       "145    0\n",
       "146    0\n",
       "147    0\n",
       "148    0\n",
       "149    2\n",
       "Length: 150, dtype: int64"
      ]
     },
     "execution_count": 239,
     "metadata": {},
     "output_type": "execute_result"
    }
   ],
   "source": [
    "labels0"
   ]
  },
  {
   "cell_type": "code",
   "execution_count": null,
   "id": "f2caba4d-c527-43ee-a8d3-9a5e56f0a179",
   "metadata": {},
   "outputs": [],
   "source": []
  },
  {
   "cell_type": "code",
   "execution_count": null,
   "id": "24b3eca5-0168-496f-95da-783f8623c096",
   "metadata": {},
   "outputs": [],
   "source": []
  },
  {
   "cell_type": "code",
   "execution_count": null,
   "id": "d163f021-2b5c-4933-8bd5-481d722a14aa",
   "metadata": {},
   "outputs": [],
   "source": []
  },
  {
   "cell_type": "code",
   "execution_count": null,
   "id": "a8826a27-a87b-4b6b-9b9c-a720bc43a269",
   "metadata": {},
   "outputs": [],
   "source": []
  }
 ],
 "metadata": {
  "kernelspec": {
   "display_name": "Python 3 (ipykernel)",
   "language": "python",
   "name": "python3"
  },
  "language_info": {
   "codemirror_mode": {
    "name": "ipython",
    "version": 3
   },
   "file_extension": ".py",
   "mimetype": "text/x-python",
   "name": "python",
   "nbconvert_exporter": "python",
   "pygments_lexer": "ipython3",
   "version": "3.12.4"
  }
 },
 "nbformat": 4,
 "nbformat_minor": 5
}
