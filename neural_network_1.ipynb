{
 "cells": [
  {
   "cell_type": "code",
   "execution_count": 232,
   "id": "b7a83d1e-c7a1-40d3-8bd3-41953a91f95f",
   "metadata": {},
   "outputs": [],
   "source": [
    "import numpy as np\n",
    "import matplotlib.pyplot as plt\n",
    "from sklearn.datasets import make_blobs"
   ]
  },
  {
   "cell_type": "code",
   "execution_count": 234,
   "id": "08684995-5d6e-487e-9a02-40d8fb9eb4a7",
   "metadata": {},
   "outputs": [],
   "source": [
    "X , y = make_blobs(n_samples=100 , n_features=2 , centers=2,random_state=0)"
   ]
  },
  {
   "cell_type": "code",
   "execution_count": 236,
   "id": "4a6f65fb-ec4c-4e3a-a608-54f037c6a313",
   "metadata": {},
   "outputs": [
    {
     "data": {
      "text/plain": [
       "(100, 2)"
      ]
     },
     "execution_count": 236,
     "metadata": {},
     "output_type": "execute_result"
    }
   ],
   "source": [
    "X.shape"
   ]
  },
  {
   "cell_type": "code",
   "execution_count": 238,
   "id": "853b7aa2-f776-436b-8352-b2157880dc21",
   "metadata": {},
   "outputs": [
    {
     "data": {
      "text/plain": [
       "(100,)"
      ]
     },
     "execution_count": 238,
     "metadata": {},
     "output_type": "execute_result"
    }
   ],
   "source": [
    "y.shape"
   ]
  },
  {
   "cell_type": "code",
   "execution_count": 240,
   "id": "b0b58d7e-2753-4106-8a75-f8a37075b850",
   "metadata": {},
   "outputs": [
    {
     "data": {
      "text/plain": [
       "array([1, 1, 0, 0, 1, 0, 0, 1, 0, 1, 0, 1, 0, 0, 1, 1, 1, 0, 1, 1, 0, 0,\n",
       "       1, 0, 1, 0, 1, 0, 0, 1, 1, 0, 1, 1, 1, 0, 1, 1, 0, 1, 0, 0, 0, 0,\n",
       "       1, 1, 1, 1, 0, 0, 1, 1, 0, 0, 0, 0, 0, 1, 1, 1, 1, 0, 0, 1, 0, 1,\n",
       "       0, 0, 1, 0, 0, 1, 1, 0, 0, 0, 1, 1, 0, 0, 1, 0, 0, 0, 0, 0, 1, 0,\n",
       "       1, 1, 1, 1, 1, 1, 0, 0, 1, 1, 0, 1])"
      ]
     },
     "execution_count": 240,
     "metadata": {},
     "output_type": "execute_result"
    }
   ],
   "source": [
    "y"
   ]
  },
  {
   "cell_type": "code",
   "execution_count": 242,
   "id": "fc244652-d705-4e57-9996-8918e7db40a4",
   "metadata": {},
   "outputs": [],
   "source": [
    "y = y.reshape(y.shape[0],1)"
   ]
  },
  {
   "cell_type": "code",
   "execution_count": 244,
   "id": "0e441d48-9aab-49cf-a6b4-45d58e1849d2",
   "metadata": {},
   "outputs": [
    {
     "data": {
      "text/plain": [
       "(100, 1)"
      ]
     },
     "execution_count": 244,
     "metadata": {},
     "output_type": "execute_result"
    }
   ],
   "source": [
    "y.shape"
   ]
  },
  {
   "cell_type": "code",
   "execution_count": 246,
   "id": "7298b138-86d5-4791-9dac-c8b1304ef626",
   "metadata": {},
   "outputs": [
    {
     "data": {
      "text/plain": [
       "array([[1],\n",
       "       [1],\n",
       "       [0],\n",
       "       [0],\n",
       "       [1],\n",
       "       [0],\n",
       "       [0],\n",
       "       [1],\n",
       "       [0],\n",
       "       [1],\n",
       "       [0],\n",
       "       [1],\n",
       "       [0],\n",
       "       [0],\n",
       "       [1],\n",
       "       [1],\n",
       "       [1],\n",
       "       [0],\n",
       "       [1],\n",
       "       [1],\n",
       "       [0],\n",
       "       [0],\n",
       "       [1],\n",
       "       [0],\n",
       "       [1],\n",
       "       [0],\n",
       "       [1],\n",
       "       [0],\n",
       "       [0],\n",
       "       [1],\n",
       "       [1],\n",
       "       [0],\n",
       "       [1],\n",
       "       [1],\n",
       "       [1],\n",
       "       [0],\n",
       "       [1],\n",
       "       [1],\n",
       "       [0],\n",
       "       [1],\n",
       "       [0],\n",
       "       [0],\n",
       "       [0],\n",
       "       [0],\n",
       "       [1],\n",
       "       [1],\n",
       "       [1],\n",
       "       [1],\n",
       "       [0],\n",
       "       [0],\n",
       "       [1],\n",
       "       [1],\n",
       "       [0],\n",
       "       [0],\n",
       "       [0],\n",
       "       [0],\n",
       "       [0],\n",
       "       [1],\n",
       "       [1],\n",
       "       [1],\n",
       "       [1],\n",
       "       [0],\n",
       "       [0],\n",
       "       [1],\n",
       "       [0],\n",
       "       [1],\n",
       "       [0],\n",
       "       [0],\n",
       "       [1],\n",
       "       [0],\n",
       "       [0],\n",
       "       [1],\n",
       "       [1],\n",
       "       [0],\n",
       "       [0],\n",
       "       [0],\n",
       "       [1],\n",
       "       [1],\n",
       "       [0],\n",
       "       [0],\n",
       "       [1],\n",
       "       [0],\n",
       "       [0],\n",
       "       [0],\n",
       "       [0],\n",
       "       [0],\n",
       "       [1],\n",
       "       [0],\n",
       "       [1],\n",
       "       [1],\n",
       "       [1],\n",
       "       [1],\n",
       "       [1],\n",
       "       [1],\n",
       "       [0],\n",
       "       [0],\n",
       "       [1],\n",
       "       [1],\n",
       "       [0],\n",
       "       [1]])"
      ]
     },
     "execution_count": 246,
     "metadata": {},
     "output_type": "execute_result"
    }
   ],
   "source": [
    "y"
   ]
  },
  {
   "cell_type": "code",
   "execution_count": 248,
   "id": "1326383c-2e9a-484b-9881-f3a0cbcae3ff",
   "metadata": {},
   "outputs": [
    {
     "data": {
      "image/png": "[encoded data removed]",
      "text/plain": [
       "<Figure size 640x480 with 1 Axes>"
      ]
     },
     "metadata": {},
     "output_type": "display_data"
    }
   ],
   "source": [
    "plt.scatter(X[:,0] , X[:,1] ,c=y,cmap='summer')\n",
    "plt.show()"
   ]
  },
  {
   "cell_type": "code",
   "execution_count": 298,
   "id": "90a53577-b496-4cdd-a608-58ed98f5c9c1",
   "metadata": {},
   "outputs": [],
   "source": [
    "def initialisation(X):\n",
    "    W = np.random.randn(X.shape[1] , 1)\n",
    "    b = np.random.randn(1)\n",
    "    return (W,b)"
   ]
  },
  {
   "cell_type": "code",
   "execution_count": 306,
   "id": "abfa1c47-b8ee-4918-a82d-3ae5c6753178",
   "metadata": {},
   "outputs": [],
   "source": [
    "def model(X , W , b):\n",
    "    Z = np.dot(X,W) + b\n",
    "    A = 1 / (1 + np.exp(-Z))\n",
    "    return A"
   ]
  },
  {
   "cell_type": "code",
   "execution_count": 308,
   "id": "3f8c38e5-7266-421e-995f-55489dd16624",
   "metadata": {},
   "outputs": [],
   "source": [
    "def log_loss(A , y):\n",
    "    return (-1/len(y)) * np.sum(y * np.log(A) + (1 - y) * np.log(1-A))"
   ]
  },
  {
   "cell_type": "code",
   "execution_count": 310,
   "id": "cd1efd27-9b1e-4ad4-9f27-39a59083026f",
   "metadata": {},
   "outputs": [],
   "source": [
    "def gradient(A , X , y):\n",
    "    dW = (1/len(y)) * np.dot(X.T , A-y)\n",
    "    db = (1/len(y)) * np.sum(A-y)\n",
    "    return (dW,db)"
   ]
  },
  {
   "cell_type": "code",
   "execution_count": 349,
   "id": "a6142119-fdc9-4b77-960a-ed33a1106afe",
   "metadata": {},
   "outputs": [],
   "source": [
    "def update(dW , db , W ,b ,learning_rate):\n",
    "        W = W - learning_rate*dW\n",
    "        b = b - learning_rate*db\n",
    "        return (W,b) "
   ]
  },
  {
   "cell_type": "code",
   "execution_count": 351,
   "id": "697ee76a-b421-49a0-bc8a-83acbabea625",
   "metadata": {},
   "outputs": [],
   "source": [
    "def predictions(X,W,b):\n",
    "    A = model(X,W,b)\n",
    "    print(A)\n",
    "    return A >= 0.5"
   ]
  },
  {
   "cell_type": "code",
   "execution_count": 353,
   "id": "52d1a3e5-c2bc-4ab6-9f41-f57502ca25f5",
   "metadata": {},
   "outputs": [],
   "source": [
    "from sklearn.metrics import accuracy_score"
   ]
  },
  {
   "cell_type": "code",
   "execution_count": 377,
   "id": "e5a8de38-2595-4223-8178-2f905878c571",
   "metadata": {},
   "outputs": [],
   "source": [
    "def artificial_neuron(X,y,learning_rate , iteration):\n",
    "    W,b = initialisation(X)\n",
    "    Loss = []\n",
    "    for i in range(iteration):\n",
    "        A = model(X,W,b)\n",
    "        Loss.append(log_loss(A,y))\n",
    "        dW , db = gradient(A,X,y)\n",
    "        W,b = update(dW,db,W,b,learning_rate)\n",
    "\n",
    "    y_pred = predictions(X,W,b)\n",
    "    accuracy = accuracy_score(y,y_pred)\n",
    "    print(\"accuracy: \",accuracy)\n",
    "        \n",
    "    plt.plot(Loss)\n",
    "    plt.show()\n",
    "\n",
    "    return (W,b)"
   ]
  },
  {
   "cell_type": "code",
   "execution_count": 387,
   "id": "ccb671fa-9274-4d53-8a01-6fc57a975f5a",
   "metadata": {},
   "outputs": [
    {
     "name": "stdout",
     "output_type": "stream",
     "text": [
      "[[9.60551878e-01]\n",
      " [8.14622932e-01]\n",
      " [5.74544250e-03]\n",
      " [1.70677301e-01]\n",
      " [9.62940157e-01]\n",
      " [3.63738960e-01]\n",
      " [7.04618589e-02]\n",
      " [9.40238122e-01]\n",
      " [5.03250480e-02]\n",
      " [8.96403959e-01]\n",
      " [3.17234474e-02]\n",
      " [8.94102800e-01]\n",
      " [2.34522977e-02]\n",
      " [1.92349957e-02]\n",
      " [7.41595760e-01]\n",
      " [9.79972089e-01]\n",
      " [9.91741846e-01]\n",
      " [3.93710627e-02]\n",
      " [7.88687177e-01]\n",
      " [6.87417664e-01]\n",
      " [4.29522040e-02]\n",
      " [3.68780266e-02]\n",
      " [4.18849240e-01]\n",
      " [5.50959105e-03]\n",
      " [9.55431609e-01]\n",
      " [3.12815384e-02]\n",
      " [9.15371407e-01]\n",
      " [7.54110910e-03]\n",
      " [6.14567149e-02]\n",
      " [7.49240793e-01]\n",
      " [9.81329673e-01]\n",
      " [4.24081284e-02]\n",
      " [7.24669848e-01]\n",
      " [9.81600480e-01]\n",
      " [4.17266099e-01]\n",
      " [2.13102099e-01]\n",
      " [8.14192814e-01]\n",
      " [5.58908228e-01]\n",
      " [4.64464343e-01]\n",
      " [5.21619567e-01]\n",
      " [8.27839402e-02]\n",
      " [5.75780185e-02]\n",
      " [9.01420273e-04]\n",
      " [1.67117738e-01]\n",
      " [2.18087115e-01]\n",
      " [8.50402353e-01]\n",
      " [9.72626977e-01]\n",
      " [9.69273918e-01]\n",
      " [5.37849142e-03]\n",
      " [8.99289948e-03]\n",
      " [9.49089296e-01]\n",
      " [6.24427476e-01]\n",
      " [3.44127642e-02]\n",
      " [3.72494412e-02]\n",
      " [8.00226223e-01]\n",
      " [4.05909215e-02]\n",
      " [6.95990701e-01]\n",
      " [8.50867609e-01]\n",
      " [9.50414732e-01]\n",
      " [9.91991790e-01]\n",
      " [6.86233497e-01]\n",
      " [1.68298329e-01]\n",
      " [5.14303472e-03]\n",
      " [9.28931495e-01]\n",
      " [1.27563882e-02]\n",
      " [3.78225672e-01]\n",
      " [4.04002992e-02]\n",
      " [5.95372347e-01]\n",
      " [9.41028539e-01]\n",
      " [2.65457168e-01]\n",
      " [1.80458752e-01]\n",
      " [9.34937744e-01]\n",
      " [9.66145036e-01]\n",
      " [1.02580937e-01]\n",
      " [1.43321001e-01]\n",
      " [4.11794277e-02]\n",
      " [5.80789162e-01]\n",
      " [8.71563351e-01]\n",
      " [5.11521011e-02]\n",
      " [3.32982797e-02]\n",
      " [2.92017206e-01]\n",
      " [1.01120071e-01]\n",
      " [4.52572088e-03]\n",
      " [1.06751392e-01]\n",
      " [1.11939653e-01]\n",
      " [1.33612829e-02]\n",
      " [9.71412170e-01]\n",
      " [5.56392272e-02]\n",
      " [8.40571177e-01]\n",
      " [9.59594597e-01]\n",
      " [9.00815533e-01]\n",
      " [9.81867004e-01]\n",
      " [4.91136240e-01]\n",
      " [9.48583618e-01]\n",
      " [2.84800599e-01]\n",
      " [1.52782491e-03]\n",
      " [9.83630176e-01]\n",
      " [9.62685558e-01]\n",
      " [1.18016727e-02]\n",
      " [4.80829839e-01]]\n",
      "accuracy:  0.9\n"
     ]
    },
    {
     "data": {
      "image/png": "[encoded data removed]",
      "text/plain": [
       "<Figure size 640x480 with 1 Axes>"
      ]
     },
     "metadata": {},
     "output_type": "display_data"
    }
   ],
   "source": [
    "W,b = artificial_neuron(X,y,learning_rate=0.1,iteration=100)"
   ]
  },
  {
   "cell_type": "code",
   "execution_count": 389,
   "id": "88a195c9-2d07-4ece-9b8b-61c410628476",
   "metadata": {},
   "outputs": [
    {
     "data": {
      "text/plain": [
       "(array([[ 1.13113965],\n",
       "        [-1.14559326]]),\n",
       " array([0.98027984]))"
      ]
     },
     "execution_count": 389,
     "metadata": {},
     "output_type": "execute_result"
    }
   ],
   "source": [
    "W,b"
   ]
  },
  {
   "cell_type": "code",
   "execution_count": 391,
   "id": "91f6b572-05e6-48f3-8f50-7a4795331a63",
   "metadata": {},
   "outputs": [],
   "source": [
    "new_plant = np.array([2,1])"
   ]
  },
  {
   "cell_type": "code",
   "execution_count": 417,
   "id": "757676f9-9b08-487b-9163-748bbb25147d",
   "metadata": {},
   "outputs": [
    {
     "data": {
      "image/png": "[encoded data removed]",
      "text/plain": [
       "<Figure size 640x480 with 1 Axes>"
      ]
     },
     "metadata": {},
     "output_type": "display_data"
    }
   ],
   "source": [
    "x1 = np.linspace(-1,4,100)\n",
    "x2 = (-W[0]*x1 - b) / W[1]\n",
    "\n",
    "\n",
    "plt.scatter(X[:,0] , X[:,1] ,c=y,cmap='summer')\n",
    "plt.scatter(new_plant[0],new_plant[1],c='r')\n",
    "plt.plot(x1,x2,c='orange')\n",
    "plt.show()"
   ]
  },
  {
   "cell_type": "code",
   "execution_count": 395,
   "id": "a1a5cfb0-daea-438e-8dc8-49880654912f",
   "metadata": {},
   "outputs": [
    {
     "name": "stdout",
     "output_type": "stream",
     "text": [
      "[0.89060793]\n"
     ]
    }
   ],
   "source": [
    "t = predictions(new_plant,W,b)"
   ]
  },
  {
   "cell_type": "code",
   "execution_count": 397,
   "id": "29cf89a1-a3bd-4799-a45f-a52c6febd05b",
   "metadata": {},
   "outputs": [
    {
     "data": {
      "text/plain": [
       "array([ True])"
      ]
     },
     "execution_count": 397,
     "metadata": {},
     "output_type": "execute_result"
    }
   ],
   "source": [
    "t"
   ]
  },
  {
   "cell_type": "code",
   "execution_count": null,
   "id": "02784a59-03fd-45d7-a36f-c634e4214d16",
   "metadata": {},
   "outputs": [],
   "source": []
  },
  {
   "cell_type": "code",
   "execution_count": null,
   "id": "4768acb8-082c-43e2-abcc-cd0a5d1b4ace",
   "metadata": {},
   "outputs": [],
   "source": []
  },
  {
   "cell_type": "code",
   "execution_count": null,
   "id": "d93fa37a-bcae-46f4-a189-7bd8de10e345",
   "metadata": {},
   "outputs": [],
   "source": []
  },
  {
   "cell_type": "code",
   "execution_count": null,
   "id": "b692d57b-72fd-45ae-a34f-c3ad1dd22e8a",
   "metadata": {},
   "outputs": [],
   "source": []
  },
  {
   "cell_type": "code",
   "execution_count": null,
   "id": "87cbf7f6-d0b5-435b-9fcb-587ad4e1cc62",
   "metadata": {},
   "outputs": [],
   "source": [
    " "
   ]
  }
 ],
 "metadata": {
  "kernelspec": {
   "display_name": "Python 3 (ipykernel)",
   "language": "python",
   "name": "python3"
  },
  "language_info": {
   "codemirror_mode": {
    "name": "ipython",
    "version": 3
   },
   "file_extension": ".py",
   "mimetype": "text/x-python",
   "name": "python",
   "nbconvert_exporter": "python",
   "pygments_lexer": "ipython3",
   "version": "3.12.4"
  }
 },
 "nbformat": 4,
 "nbformat_minor": 5
}
